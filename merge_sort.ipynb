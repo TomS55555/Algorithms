{
 "cells": [
  {
   "cell_type": "code",
   "execution_count": 2,
   "metadata": {},
   "outputs": [
    {
     "name": "stdout",
     "output_type": "stream",
     "text": [
      "[1, 3, 4, 5, 6, 8]\n"
     ]
    }
   ],
   "source": [
    "def merge(A, p, q, r):\n",
    "    \"\"\" This method merges the two sorted sub-arrays A[p:q], A[q:r] into a sorted array A[p:r]\n",
    "        It does so in O(n) time\"\"\"\n",
    "    L = A[p:q].copy()\n",
    "    R = A[q:r].copy()\n",
    "    i=0\n",
    "    j=0\n",
    "    k = p # i loops through L, j through R, and k through the final A\n",
    "    while i < len(L) and j < len(R):\n",
    "        l = L[i]\n",
    "        r = R[j]\n",
    "        if l < r:\n",
    "            A[k] = l \n",
    "            i+=1\n",
    "        else:\n",
    "            A[k] = r\n",
    "            j+=1\n",
    "        k+=1 \n",
    "    while i < len(L):\n",
    "        A[k] = L[i]\n",
    "        i+=1\n",
    "        k+=1\n",
    "    while j < len(R):\n",
    "        A[k] = L[j]\n",
    "        j+=1\n",
    "        k+=1\n",
    "\n",
    "test_list = [4, 6, 8, 1, 3, 5]\n",
    "merge(test_list, 0, 3, 6)\n",
    "print(test_list)"
   ]
  },
  {
   "cell_type": "code",
   "execution_count": null,
   "metadata": {},
   "outputs": [],
   "source": [
    "def merge_sort(A, p, r):\n",
    "    \"\"\" This function sorts A[p:r] by splitting it in half and sorting both parts recursively and then joining the sorted subarrays.\"\"\"\n",
    "    if r-p <= 1: # one element or less\n",
    "        return \n",
    "    q = (r+p) // 2\n",
    "    merge_sort(A, p, q)\n",
    "    merge_sort(A, q, r)\n",
    "    merge(A, p, q, r)\n",
    "\n",
    "test_list = [31, 41, 59, 26, 41, 58]\n",
    "insertion_sort(test_list)\n",
    "print(test_list)\n",
    "\n"
   ]
  }
 ],
 "metadata": {
  "kernelspec": {
   "display_name": "pytorch",
   "language": "python",
   "name": "python3"
  },
  "language_info": {
   "codemirror_mode": {
    "name": "ipython",
    "version": 3
   },
   "file_extension": ".py",
   "mimetype": "text/x-python",
   "name": "python",
   "nbconvert_exporter": "python",
   "pygments_lexer": "ipython3",
   "version": "3.11.5"
  }
 },
 "nbformat": 4,
 "nbformat_minor": 2
}
