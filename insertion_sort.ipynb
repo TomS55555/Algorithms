{
 "cells": [
  {
   "cell_type": "code",
   "execution_count": 19,
   "metadata": {},
   "outputs": [
    {
     "name": "stdout",
     "output_type": "stream",
     "text": [
      "[26, 31, 41, 41, 58, 59]\n"
     ]
    }
   ],
   "source": [
    "def insertion_sort(A):\n",
    "    \"\"\" This algorithm sorts the array in A in O(N^2) time and O(N) space using the famous insertion sort algorithm. \n",
    "        The result is a sorted array. \"\"\"\n",
    "    for i, a in enumerate(A):\n",
    "        # insert a into the sorted array A[0:i-1]\n",
    "        # start at the end and shift each element to the right until a can be inserted\n",
    "        #print('i: ', i)\n",
    "        if i == 0:\n",
    "            continue\n",
    "        j = i-1\n",
    "        #print('j: ', j)\n",
    "        while A[j] > a and j >= 0:\n",
    "            #print('a: ', a)\n",
    "            A[j+1] = A[j]\n",
    "            j-=1\n",
    "        A[j+1] = a \n",
    "test_list = [31, 41, 59, 26, 41, 58]\n",
    "insertion_sort(test_list)\n",
    "print(test_list)"
   ]
  }
 ],
 "metadata": {
  "kernelspec": {
   "display_name": "pytorch",
   "language": "python",
   "name": "python3"
  },
  "language_info": {
   "codemirror_mode": {
    "name": "ipython",
    "version": 3
   },
   "file_extension": ".py",
   "mimetype": "text/x-python",
   "name": "python",
   "nbconvert_exporter": "python",
   "pygments_lexer": "ipython3",
   "version": "3.11.5"
  }
 },
 "nbformat": 4,
 "nbformat_minor": 2
}
